{
 "cells": [
  {
   "cell_type": "markdown",
   "id": "5849dc78",
   "metadata": {},
   "source": [
    "# Problem Statement"
   ]
  },
  {
   "cell_type": "markdown",
   "id": "ba430a9b",
   "metadata": {},
   "source": [
    "The aim is to identify patterns which indicate if a person is likely to default, which may be used for taking actions such as denying the loan, reducing the amount of loan, lending (to risky applicants) at a higher interest rate, etc."
   ]
  },
  {
   "cell_type": "markdown",
   "id": "9a9c44bf",
   "metadata": {},
   "source": [
    "###  Input Libraries\n",
    "\n"
   ]
  },
  {
   "cell_type": "code",
   "execution_count": 69,
   "id": "74bc9032",
   "metadata": {},
   "outputs": [],
   "source": [
    "import numpy as np\n",
    "import pandas as pd\n",
    "import matplotlib.pyplot as plt\n",
    "import seaborn as sns\n",
    "import warnings\n",
    "warnings.filterwarnings(\"ignore\") "
   ]
  },
  {
   "cell_type": "markdown",
   "id": "c4e721f0",
   "metadata": {},
   "source": [
    "### Input Dateset\n",
    "\n"
   ]
  },
  {
   "cell_type": "code",
   "execution_count": 70,
   "id": "85fdd881",
   "metadata": {},
   "outputs": [
    {
     "data": {
      "text/html": [
       "<div>\n",
       "<style scoped>\n",
       "    .dataframe tbody tr th:only-of-type {\n",
       "        vertical-align: middle;\n",
       "    }\n",
       "\n",
       "    .dataframe tbody tr th {\n",
       "        vertical-align: top;\n",
       "    }\n",
       "\n",
       "    .dataframe thead th {\n",
       "        text-align: right;\n",
       "    }\n",
       "</style>\n",
       "<table border=\"1\" class=\"dataframe\">\n",
       "  <thead>\n",
       "    <tr style=\"text-align: right;\">\n",
       "      <th></th>\n",
       "      <th>id</th>\n",
       "      <th>member_id</th>\n",
       "      <th>loan_amnt</th>\n",
       "      <th>funded_amnt</th>\n",
       "      <th>funded_amnt_inv</th>\n",
       "      <th>term</th>\n",
       "      <th>int_rate</th>\n",
       "      <th>installment</th>\n",
       "      <th>grade</th>\n",
       "      <th>sub_grade</th>\n",
       "      <th>...</th>\n",
       "      <th>num_tl_90g_dpd_24m</th>\n",
       "      <th>num_tl_op_past_12m</th>\n",
       "      <th>pct_tl_nvr_dlq</th>\n",
       "      <th>percent_bc_gt_75</th>\n",
       "      <th>pub_rec_bankruptcies</th>\n",
       "      <th>tax_liens</th>\n",
       "      <th>tot_hi_cred_lim</th>\n",
       "      <th>total_bal_ex_mort</th>\n",
       "      <th>total_bc_limit</th>\n",
       "      <th>total_il_high_credit_limit</th>\n",
       "    </tr>\n",
       "  </thead>\n",
       "  <tbody>\n",
       "    <tr>\n",
       "      <th>0</th>\n",
       "      <td>1077501</td>\n",
       "      <td>1296599</td>\n",
       "      <td>5000</td>\n",
       "      <td>5000</td>\n",
       "      <td>4975.0</td>\n",
       "      <td>36 months</td>\n",
       "      <td>10.65%</td>\n",
       "      <td>162.87</td>\n",
       "      <td>B</td>\n",
       "      <td>B2</td>\n",
       "      <td>...</td>\n",
       "      <td>NaN</td>\n",
       "      <td>NaN</td>\n",
       "      <td>NaN</td>\n",
       "      <td>NaN</td>\n",
       "      <td>0.0</td>\n",
       "      <td>0.0</td>\n",
       "      <td>NaN</td>\n",
       "      <td>NaN</td>\n",
       "      <td>NaN</td>\n",
       "      <td>NaN</td>\n",
       "    </tr>\n",
       "    <tr>\n",
       "      <th>1</th>\n",
       "      <td>1077430</td>\n",
       "      <td>1314167</td>\n",
       "      <td>2500</td>\n",
       "      <td>2500</td>\n",
       "      <td>2500.0</td>\n",
       "      <td>60 months</td>\n",
       "      <td>15.27%</td>\n",
       "      <td>59.83</td>\n",
       "      <td>C</td>\n",
       "      <td>C4</td>\n",
       "      <td>...</td>\n",
       "      <td>NaN</td>\n",
       "      <td>NaN</td>\n",
       "      <td>NaN</td>\n",
       "      <td>NaN</td>\n",
       "      <td>0.0</td>\n",
       "      <td>0.0</td>\n",
       "      <td>NaN</td>\n",
       "      <td>NaN</td>\n",
       "      <td>NaN</td>\n",
       "      <td>NaN</td>\n",
       "    </tr>\n",
       "    <tr>\n",
       "      <th>2</th>\n",
       "      <td>1077175</td>\n",
       "      <td>1313524</td>\n",
       "      <td>2400</td>\n",
       "      <td>2400</td>\n",
       "      <td>2400.0</td>\n",
       "      <td>36 months</td>\n",
       "      <td>15.96%</td>\n",
       "      <td>84.33</td>\n",
       "      <td>C</td>\n",
       "      <td>C5</td>\n",
       "      <td>...</td>\n",
       "      <td>NaN</td>\n",
       "      <td>NaN</td>\n",
       "      <td>NaN</td>\n",
       "      <td>NaN</td>\n",
       "      <td>0.0</td>\n",
       "      <td>0.0</td>\n",
       "      <td>NaN</td>\n",
       "      <td>NaN</td>\n",
       "      <td>NaN</td>\n",
       "      <td>NaN</td>\n",
       "    </tr>\n",
       "    <tr>\n",
       "      <th>3</th>\n",
       "      <td>1076863</td>\n",
       "      <td>1277178</td>\n",
       "      <td>10000</td>\n",
       "      <td>10000</td>\n",
       "      <td>10000.0</td>\n",
       "      <td>36 months</td>\n",
       "      <td>13.49%</td>\n",
       "      <td>339.31</td>\n",
       "      <td>C</td>\n",
       "      <td>C1</td>\n",
       "      <td>...</td>\n",
       "      <td>NaN</td>\n",
       "      <td>NaN</td>\n",
       "      <td>NaN</td>\n",
       "      <td>NaN</td>\n",
       "      <td>0.0</td>\n",
       "      <td>0.0</td>\n",
       "      <td>NaN</td>\n",
       "      <td>NaN</td>\n",
       "      <td>NaN</td>\n",
       "      <td>NaN</td>\n",
       "    </tr>\n",
       "    <tr>\n",
       "      <th>4</th>\n",
       "      <td>1075358</td>\n",
       "      <td>1311748</td>\n",
       "      <td>3000</td>\n",
       "      <td>3000</td>\n",
       "      <td>3000.0</td>\n",
       "      <td>60 months</td>\n",
       "      <td>12.69%</td>\n",
       "      <td>67.79</td>\n",
       "      <td>B</td>\n",
       "      <td>B5</td>\n",
       "      <td>...</td>\n",
       "      <td>NaN</td>\n",
       "      <td>NaN</td>\n",
       "      <td>NaN</td>\n",
       "      <td>NaN</td>\n",
       "      <td>0.0</td>\n",
       "      <td>0.0</td>\n",
       "      <td>NaN</td>\n",
       "      <td>NaN</td>\n",
       "      <td>NaN</td>\n",
       "      <td>NaN</td>\n",
       "    </tr>\n",
       "  </tbody>\n",
       "</table>\n",
       "<p>5 rows × 111 columns</p>\n",
       "</div>"
      ],
      "text/plain": [
       "        id  member_id  loan_amnt  funded_amnt  funded_amnt_inv        term  \\\n",
       "0  1077501    1296599       5000         5000           4975.0   36 months   \n",
       "1  1077430    1314167       2500         2500           2500.0   60 months   \n",
       "2  1077175    1313524       2400         2400           2400.0   36 months   \n",
       "3  1076863    1277178      10000        10000          10000.0   36 months   \n",
       "4  1075358    1311748       3000         3000           3000.0   60 months   \n",
       "\n",
       "  int_rate  installment grade sub_grade  ... num_tl_90g_dpd_24m  \\\n",
       "0   10.65%       162.87     B        B2  ...                NaN   \n",
       "1   15.27%        59.83     C        C4  ...                NaN   \n",
       "2   15.96%        84.33     C        C5  ...                NaN   \n",
       "3   13.49%       339.31     C        C1  ...                NaN   \n",
       "4   12.69%        67.79     B        B5  ...                NaN   \n",
       "\n",
       "  num_tl_op_past_12m pct_tl_nvr_dlq  percent_bc_gt_75 pub_rec_bankruptcies  \\\n",
       "0                NaN            NaN               NaN                  0.0   \n",
       "1                NaN            NaN               NaN                  0.0   \n",
       "2                NaN            NaN               NaN                  0.0   \n",
       "3                NaN            NaN               NaN                  0.0   \n",
       "4                NaN            NaN               NaN                  0.0   \n",
       "\n",
       "  tax_liens tot_hi_cred_lim total_bal_ex_mort total_bc_limit  \\\n",
       "0       0.0             NaN               NaN            NaN   \n",
       "1       0.0             NaN               NaN            NaN   \n",
       "2       0.0             NaN               NaN            NaN   \n",
       "3       0.0             NaN               NaN            NaN   \n",
       "4       0.0             NaN               NaN            NaN   \n",
       "\n",
       "  total_il_high_credit_limit  \n",
       "0                        NaN  \n",
       "1                        NaN  \n",
       "2                        NaN  \n",
       "3                        NaN  \n",
       "4                        NaN  \n",
       "\n",
       "[5 rows x 111 columns]"
      ]
     },
     "execution_count": 70,
     "metadata": {},
     "output_type": "execute_result"
    }
   ],
   "source": [
    "df = pd.read_csv('loan.csv')\n",
    "df.head()"
   ]
  },
  {
   "cell_type": "markdown",
   "id": "ccd8b68b",
   "metadata": {},
   "source": [
    "### Getting some Insights "
   ]
  },
  {
   "cell_type": "code",
   "execution_count": 71,
   "id": "072924ae",
   "metadata": {},
   "outputs": [
    {
     "data": {
      "text/plain": [
       "(39717, 111)"
      ]
     },
     "execution_count": 71,
     "metadata": {},
     "output_type": "execute_result"
    }
   ],
   "source": [
    "df.shape"
   ]
  },
  {
   "cell_type": "markdown",
   "id": "94564b05",
   "metadata": {},
   "source": [
    "### Identifying Missing Values in Columns"
   ]
  },
  {
   "cell_type": "code",
   "execution_count": 72,
   "id": "6498ece9",
   "metadata": {},
   "outputs": [
    {
     "data": {
      "text/plain": [
       "id                                0\n",
       "member_id                         0\n",
       "loan_amnt                         0\n",
       "funded_amnt                       0\n",
       "funded_amnt_inv                   0\n",
       "                              ...  \n",
       "tax_liens                        39\n",
       "tot_hi_cred_lim               39717\n",
       "total_bal_ex_mort             39717\n",
       "total_bc_limit                39717\n",
       "total_il_high_credit_limit    39717\n",
       "Length: 111, dtype: int64"
      ]
     },
     "execution_count": 72,
     "metadata": {},
     "output_type": "execute_result"
    }
   ],
   "source": [
    "# columns having at least one missing value\n",
    "df.isnull().sum()"
   ]
  },
  {
   "cell_type": "markdown",
   "id": "42092cce",
   "metadata": {},
   "source": [
    "### Dropping NULL Columns"
   ]
  },
  {
   "cell_type": "code",
   "execution_count": 73,
   "id": "243ee5be",
   "metadata": {},
   "outputs": [],
   "source": [
    "df.drop([\"mths_since_last_major_derog\", \"tot_hi_cred_lim\",\"tot_coll_amt\",\"tot_cur_bal\",\"open_acc_6m\",\"open_il_6m\"], axis = 1, inplace = True)"
   ]
  },
  {
   "cell_type": "code",
   "execution_count": 74,
   "id": "a0a8c034",
   "metadata": {},
   "outputs": [],
   "source": [
    "df.drop([\"open_il_12m\", \"open_il_24m\",\"mths_since_rcnt_il\",\"total_bal_il\",\"il_util\",\"open_rv_12m\",\"open_rv_24m\",\"max_bal_bc\",\"all_util\",\"total_rev_hi_lim\",\"inq_fi\",\"total_cu_tl\",\"inq_last_12m\",\"acc_open_past_24mths\",\"avg_cur_bal\",\"bc_open_to_buy\",\"bc_util\",\"mo_sin_old_il_acct\",\"mo_sin_old_rev_tl_op\",\"mo_sin_rcnt_rev_tl_op\",\"mo_sin_rcnt_tl\",\"mort_acc\",\"mths_since_recent_bc\",\"mths_since_recent_bc_dlq\",\"mths_since_recent_inq\",\"mths_since_recent_revol_delinq\",\"num_accts_ever_120_pd\",\"num_actv_bc_tl\",\"num_actv_rev_tl\",\"num_bc_sats\",\"num_bc_tl\",\"num_il_tl\",\"num_op_rev_tl\",\"num_rev_accts\",\"num_rev_tl_bal_gt_0\",\"num_sats\",\"num_tl_120dpd_2m\",\"num_tl_30dpd\",\"num_tl_90g_dpd_24m\",\"num_tl_op_past_12m\",\"pct_tl_nvr_dlq\",\"percent_bc_gt_75\",\"total_bal_ex_mort\",\"total_bc_limit\",\"total_il_high_credit_limit\"], axis = 1, inplace = True)"
   ]
  },
  {
   "cell_type": "code",
   "execution_count": 75,
   "id": "126594ba",
   "metadata": {},
   "outputs": [],
   "source": [
    "df.drop([\"mths_since_last_record\", \"mths_since_last_delinq\",\"next_pymnt_d\",\"annual_inc_joint\",\"dti_joint\",\"verification_status_joint\"], axis = 1, inplace = True)"
   ]
  },
  {
   "cell_type": "code",
   "execution_count": 76,
   "id": "d87bed50",
   "metadata": {},
   "outputs": [],
   "source": [
    "df.drop([\"acc_now_delinq\",\"tax_liens\"], axis = 1, inplace = True)"
   ]
  },
  {
   "cell_type": "code",
   "execution_count": 77,
   "id": "63f5ecfb",
   "metadata": {},
   "outputs": [],
   "source": [
    "df.drop([\"emp_title\"], axis = 1, inplace = True)"
   ]
  },
  {
   "cell_type": "code",
   "execution_count": 19,
   "id": "d995884b",
   "metadata": {},
   "outputs": [
    {
     "data": {
      "text/plain": [
       "id                                0\n",
       "member_id                         0\n",
       "loan_amnt                         0\n",
       "funded_amnt                       0\n",
       "funded_amnt_inv                   0\n",
       "term                              0\n",
       "int_rate                          0\n",
       "installment                       0\n",
       "grade                             0\n",
       "sub_grade                         0\n",
       "emp_length                     1075\n",
       "home_ownership                    0\n",
       "annual_inc                        0\n",
       "verification_status               0\n",
       "issue_d                           0\n",
       "loan_status                       0\n",
       "pymnt_plan                        0\n",
       "url                               0\n",
       "desc                          12940\n",
       "purpose                           0\n",
       "title                            11\n",
       "zip_code                          0\n",
       "addr_state                        0\n",
       "dti                               0\n",
       "delinq_2yrs                       0\n",
       "earliest_cr_line                  0\n",
       "inq_last_6mths                    0\n",
       "open_acc                          0\n",
       "pub_rec                           0\n",
       "revol_bal                         0\n",
       "revol_util                       50\n",
       "total_acc                         0\n",
       "initial_list_status               0\n",
       "out_prncp                         0\n",
       "out_prncp_inv                     0\n",
       "total_pymnt                       0\n",
       "total_pymnt_inv                   0\n",
       "total_rec_prncp                   0\n",
       "total_rec_int                     0\n",
       "total_rec_late_fee                0\n",
       "recoveries                        0\n",
       "collection_recovery_fee           0\n",
       "last_pymnt_d                     71\n",
       "last_pymnt_amnt                   0\n",
       "last_credit_pull_d                2\n",
       "collections_12_mths_ex_med       56\n",
       "policy_code                       0\n",
       "application_type                  0\n",
       "chargeoff_within_12_mths         56\n",
       "delinq_amnt                       0\n",
       "pub_rec_bankruptcies            697\n",
       "dtype: int64"
      ]
     },
     "execution_count": 19,
     "metadata": {},
     "output_type": "execute_result"
    }
   ],
   "source": [
    "df.isnull().sum()"
   ]
  },
  {
   "cell_type": "markdown",
   "id": "49349ece",
   "metadata": {},
   "source": [
    "### REMOVING NULL COLUMNS"
   ]
  },
  {
   "cell_type": "code",
   "execution_count": 79,
   "id": "ea570af3",
   "metadata": {},
   "outputs": [],
   "source": [
    "df = df[~df.emp_length.isnull()]"
   ]
  },
  {
   "cell_type": "code",
   "execution_count": 80,
   "id": "da0baea4",
   "metadata": {},
   "outputs": [],
   "source": [
    "df = df[~df.title.isnull()]"
   ]
  },
  {
   "cell_type": "code",
   "execution_count": 81,
   "id": "b429a091",
   "metadata": {},
   "outputs": [],
   "source": [
    "df = df[~df.revol_util.isnull()]"
   ]
  },
  {
   "cell_type": "code",
   "execution_count": 177,
   "id": "0a1010c3",
   "metadata": {},
   "outputs": [
    {
     "data": {
      "text/plain": [
       "id                                0\n",
       "member_id                         0\n",
       "loan_amnt                         0\n",
       "funded_amnt                       0\n",
       "funded_amnt_inv                   0\n",
       "term                              0\n",
       "int_rate                          0\n",
       "installment                       0\n",
       "grade                             0\n",
       "sub_grade                         0\n",
       "emp_length                        0\n",
       "home_ownership                    0\n",
       "annual_inc                        0\n",
       "verification_status               0\n",
       "issue_d                           0\n",
       "loan_status                       0\n",
       "pymnt_plan                        0\n",
       "url                               0\n",
       "desc                          11955\n",
       "purpose                           0\n",
       "title                             0\n",
       "zip_code                          0\n",
       "addr_state                        0\n",
       "dti                               0\n",
       "delinq_2yrs                       0\n",
       "earliest_cr_line                  0\n",
       "inq_last_6mths                    0\n",
       "open_acc                          0\n",
       "pub_rec                           0\n",
       "revol_bal                         0\n",
       "revol_util                        0\n",
       "total_acc                         0\n",
       "initial_list_status               0\n",
       "out_prncp                         0\n",
       "out_prncp_inv                     0\n",
       "total_pymnt                       0\n",
       "total_pymnt_inv                   0\n",
       "total_rec_prncp                   0\n",
       "total_rec_int                     0\n",
       "total_rec_late_fee                0\n",
       "recoveries                        0\n",
       "collection_recovery_fee           0\n",
       "last_pymnt_d                     62\n",
       "last_pymnt_amnt                   0\n",
       "last_credit_pull_d                2\n",
       "collections_12_mths_ex_med       55\n",
       "policy_code                       0\n",
       "application_type                  0\n",
       "chargeoff_within_12_mths         55\n",
       "delinq_amnt                       0\n",
       "pub_rec_bankruptcies            688\n",
       "range_annual_inc                  0\n",
       "range_int_rate                    0\n",
       "range_loan_amnt                   0\n",
       "range_dti                         0\n",
       "dtype: int64"
      ]
     },
     "execution_count": 177,
     "metadata": {},
     "output_type": "execute_result"
    }
   ],
   "source": [
    "df.isnull().sum()"
   ]
  },
  {
   "cell_type": "code",
   "execution_count": 25,
   "id": "226da3ca",
   "metadata": {},
   "outputs": [
    {
     "data": {
      "text/plain": [
       "id                              int64\n",
       "member_id                       int64\n",
       "loan_amnt                       int64\n",
       "funded_amnt                     int64\n",
       "funded_amnt_inv               float64\n",
       "term                           object\n",
       "int_rate                       object\n",
       "installment                   float64\n",
       "grade                          object\n",
       "sub_grade                      object\n",
       "emp_length                     object\n",
       "home_ownership                 object\n",
       "annual_inc                    float64\n",
       "verification_status            object\n",
       "issue_d                        object\n",
       "loan_status                    object\n",
       "pymnt_plan                     object\n",
       "url                            object\n",
       "desc                           object\n",
       "purpose                        object\n",
       "title                          object\n",
       "zip_code                       object\n",
       "addr_state                     object\n",
       "dti                           float64\n",
       "delinq_2yrs                     int64\n",
       "earliest_cr_line               object\n",
       "inq_last_6mths                  int64\n",
       "open_acc                        int64\n",
       "pub_rec                         int64\n",
       "revol_bal                       int64\n",
       "revol_util                     object\n",
       "total_acc                       int64\n",
       "initial_list_status            object\n",
       "out_prncp                     float64\n",
       "out_prncp_inv                 float64\n",
       "total_pymnt                   float64\n",
       "total_pymnt_inv               float64\n",
       "total_rec_prncp               float64\n",
       "total_rec_int                 float64\n",
       "total_rec_late_fee            float64\n",
       "recoveries                    float64\n",
       "collection_recovery_fee       float64\n",
       "last_pymnt_d                   object\n",
       "last_pymnt_amnt               float64\n",
       "last_credit_pull_d             object\n",
       "collections_12_mths_ex_med    float64\n",
       "policy_code                     int64\n",
       "application_type               object\n",
       "chargeoff_within_12_mths      float64\n",
       "delinq_amnt                     int64\n",
       "pub_rec_bankruptcies          float64\n",
       "dtype: object"
      ]
     },
     "execution_count": 25,
     "metadata": {},
     "output_type": "execute_result"
    }
   ],
   "source": [
    "df.dtypes"
   ]
  },
  {
   "cell_type": "markdown",
   "id": "cf7704c7",
   "metadata": {},
   "source": [
    "### Changing column data types"
   ]
  },
  {
   "cell_type": "code",
   "execution_count": 83,
   "id": "405445a7",
   "metadata": {},
   "outputs": [],
   "source": [
    "df.int_rate = df.int_rate.apply(lambda x: x.split(\"%\")[0])"
   ]
  },
  {
   "cell_type": "code",
   "execution_count": 84,
   "id": "b82789fe",
   "metadata": {},
   "outputs": [],
   "source": [
    "df.int_rate = df.int_rate.astype(\"float\")"
   ]
  },
  {
   "cell_type": "code",
   "execution_count": 85,
   "id": "5bcb6024",
   "metadata": {},
   "outputs": [],
   "source": [
    "df.revol_util = df.revol_util.apply(lambda x: x.split(\"%\")[0])"
   ]
  },
  {
   "cell_type": "code",
   "execution_count": 86,
   "id": "991a87dd",
   "metadata": {},
   "outputs": [],
   "source": [
    "df.revol_util = df.revol_util.astype(\"float\")"
   ]
  },
  {
   "cell_type": "code",
   "execution_count": null,
   "id": "37b79e92",
   "metadata": {},
   "outputs": [],
   "source": [
    "# removing months from column terms"
   ]
  },
  {
   "cell_type": "code",
   "execution_count": 87,
   "id": "c3bc64ea",
   "metadata": {},
   "outputs": [],
   "source": [
    "df.term = df.term.apply(lambda x: x.split()[0])"
   ]
  },
  {
   "cell_type": "code",
   "execution_count": 88,
   "id": "34f7aacd",
   "metadata": {},
   "outputs": [],
   "source": [
    "df.term = df.term.astype(\"int32\")"
   ]
  },
  {
   "cell_type": "code",
   "execution_count": 89,
   "id": "fe027bd1",
   "metadata": {},
   "outputs": [
    {
     "data": {
      "text/plain": [
       "36    28236\n",
       "60    10349\n",
       "Name: term, dtype: int64"
      ]
     },
     "execution_count": 89,
     "metadata": {},
     "output_type": "execute_result"
    }
   ],
   "source": [
    "df['term'].value_counts()"
   ]
  },
  {
   "cell_type": "markdown",
   "id": "b1215f18",
   "metadata": {},
   "source": [
    "### Removing Outliers"
   ]
  },
  {
   "cell_type": "code",
   "execution_count": null,
   "id": "6164e54c",
   "metadata": {},
   "outputs": [],
   "source": [
    "# removing current from loan status"
   ]
  },
  {
   "cell_type": "code",
   "execution_count": 90,
   "id": "5ebf950e",
   "metadata": {},
   "outputs": [],
   "source": [
    "df = df[~df['loan_status'].isin(['Current'])]"
   ]
  },
  {
   "cell_type": "code",
   "execution_count": null,
   "id": "3ec0a336",
   "metadata": {},
   "outputs": [],
   "source": [
    "# Updating loan status as 0 for fully paid and charged off to 1"
   ]
  },
  {
   "cell_type": "code",
   "execution_count": 91,
   "id": "82d6e80e",
   "metadata": {},
   "outputs": [],
   "source": [
    "df[\"loan_status\"] = df[\"loan_status\"].apply(lambda x: 0 if x == \"Fully Paid\" else 1)"
   ]
  },
  {
   "cell_type": "code",
   "execution_count": 92,
   "id": "8947fbbc",
   "metadata": {},
   "outputs": [
    {
     "data": {
      "image/png": "[encoded data removed]",
      "text/plain": [
       "<Figure size 432x288 with 1 Axes>"
      ]
     },
     "metadata": {
      "needs_background": "light"
     },
     "output_type": "display_data"
    }
   ],
   "source": [
    "plt.boxplot(df.annual_inc)\n",
    "plt.show()"
   ]
  },
  {
   "cell_type": "code",
   "execution_count": 93,
   "id": "af9d2d86",
   "metadata": {},
   "outputs": [
    {
     "data": {
      "text/plain": [
       "count    3.748700e+04\n",
       "mean     6.944113e+04\n",
       "std      6.467910e+04\n",
       "min      4.000000e+03\n",
       "25%      4.100000e+04\n",
       "50%      6.000000e+04\n",
       "75%      8.300000e+04\n",
       "max      6.000000e+06\n",
       "Name: annual_inc, dtype: float64"
      ]
     },
     "execution_count": 93,
     "metadata": {},
     "output_type": "execute_result"
    }
   ],
   "source": [
    "df.annual_inc.describe()"
   ]
  },
  {
   "cell_type": "code",
   "execution_count": null,
   "id": "bea865d2",
   "metadata": {},
   "outputs": [],
   "source": [
    "# from the above box plot we can conculde that the outliers are present in this dataset hence removing outliers"
   ]
  },
  {
   "cell_type": "code",
   "execution_count": 94,
   "id": "22e3ccbc",
   "metadata": {},
   "outputs": [],
   "source": [
    "annual_inc_temp = df[\"annual_inc\"].quantile(0.99)"
   ]
  },
  {
   "cell_type": "code",
   "execution_count": 95,
   "id": "da2002b9",
   "metadata": {},
   "outputs": [],
   "source": [
    "df = df[df[\"annual_inc\"] < annual_inc_temp]"
   ]
  },
  {
   "cell_type": "code",
   "execution_count": 96,
   "id": "eee78fb4",
   "metadata": {},
   "outputs": [
    {
     "data": {
      "image/png": "[encoded data removed]",
      "text/plain": [
       "<Figure size 432x288 with 1 Axes>"
      ]
     },
     "metadata": {
      "needs_background": "light"
     },
     "output_type": "display_data"
    }
   ],
   "source": [
    "plt.boxplot(df.annual_inc)\n",
    "plt.show()"
   ]
  },
  {
   "cell_type": "code",
   "execution_count": null,
   "id": "15cc940d",
   "metadata": {},
   "outputs": [],
   "source": [
    "# Updating emp_length and updating <1 year as zero and 10+ as 10 "
   ]
  },
  {
   "cell_type": "code",
   "execution_count": 97,
   "id": "97e7ade3",
   "metadata": {},
   "outputs": [],
   "source": [
    "df[\"emp_length\"] = df[\"emp_length\"].apply(lambda x:0 if \"<\" in x else (x.split('+')[0] if \"+\" in x else x.split()[0]))"
   ]
  },
  {
   "cell_type": "code",
   "execution_count": 180,
   "id": "1c311ec6",
   "metadata": {},
   "outputs": [],
   "source": [
    "# manipulating purpose data\n",
    "loan_purpose_data = df[\"purpose\"].value_counts()*100/df.shape[0]\n",
    "\n",
    "# remove rows with less than 1% of value counts in paricular purpose \n",
    "loan_purpose_del = loan_purpose_data[loan_purpose_data<1].index.values\n",
    "df = df[[False if p in loan_purpose_del else True for p in df[\"purpose\"]]]"
   ]
  },
  {
   "cell_type": "markdown",
   "id": "a7bf9569",
   "metadata": {},
   "source": [
    "### Creating Continuos Bins"
   ]
  },
  {
   "cell_type": "code",
   "execution_count": null,
   "id": "f9bae026",
   "metadata": {},
   "outputs": [],
   "source": [
    "# 1. Bin for annual_inc range"
   ]
  },
  {
   "cell_type": "code",
   "execution_count": 98,
   "id": "2a4ec30a",
   "metadata": {},
   "outputs": [],
   "source": [
    "bins = [0, 25000, 50000, 75000, 100000, 1000000]\n",
    "bin_type = ['0-25000', '25000-50000', '50000-75000', '75000-100000', '100000+']\n",
    "df['range_annual_inc'] = pd.cut(df['annual_inc'], bins, labels=bin_type)"
   ]
  },
  {
   "cell_type": "code",
   "execution_count": null,
   "id": "3b75a1ef",
   "metadata": {},
   "outputs": [],
   "source": [
    "# 2. Bin for int_rate range"
   ]
  },
  {
   "cell_type": "code",
   "execution_count": 99,
   "id": "79766e21",
   "metadata": {},
   "outputs": [],
   "source": [
    "bins = [0, 7.5, 10, 12.5, 15, 100]\n",
    "bin_type = ['0-7.5', '7.5-10', '10-12.5', '12.5-15', '15+']\n",
    "df['range_int_rate'] = pd.cut(df['int_rate'], bins, labels=bin_type)"
   ]
  },
  {
   "cell_type": "code",
   "execution_count": null,
   "id": "3c4a12ec",
   "metadata": {},
   "outputs": [],
   "source": [
    "# 3. Bin for dti_range"
   ]
  },
  {
   "cell_type": "code",
   "execution_count": 159,
   "id": "a121573a",
   "metadata": {},
   "outputs": [],
   "source": [
    "bins = [-1, 5.00, 10.00, 15.00, 20.00, 25.00, 50.00]\n",
    "bin_type = ['0-5%', '5-10%', '10-15%', '15-20%', '20-25%', '25%+']\n",
    "df['range_dti'] = pd.cut(df['dti'], bins, labels=bin_type)"
   ]
  },
  {
   "cell_type": "code",
   "execution_count": null,
   "id": "d7427412",
   "metadata": {},
   "outputs": [],
   "source": [
    "# 4. Bin for loan_amount_range"
   ]
  },
  {
   "cell_type": "code",
   "execution_count": 100,
   "id": "d23eb837",
   "metadata": {},
   "outputs": [],
   "source": [
    "bins = [0, 5000, 10000, 15000, 20000, 25000, 36000]\n",
    "bin_type = ['0-5000', '5000-10000', '10000-15000', '15000-20000', '20000-25000','25000+']\n",
    "df['range_loan_amnt'] = pd.cut(df['loan_amnt'], bins, labels=bin_type)"
   ]
  },
  {
   "cell_type": "markdown",
   "id": "c3232530",
   "metadata": {},
   "source": [
    "# <font color = red> Data Visualization"
   ]
  },
  {
   "cell_type": "markdown",
   "id": "e3cd3008",
   "metadata": {},
   "source": [
    "## <font color = blue> Univariate Analysis ###"
   ]
  },
  {
   "cell_type": "markdown",
   "id": "a2e15115",
   "metadata": {},
   "source": [
    "### _Defaulter Vs Non Defaulter_"
   ]
  },
  {
   "cell_type": "code",
   "execution_count": 152,
   "id": "5453ed6b",
   "metadata": {
    "scrolled": true
   },
   "outputs": [
    {
     "data": {
      "image/png": "[encoded data removed]",
      "text/plain": [
       "<Figure size 360x360 with 1 Axes>"
      ]
     },
     "metadata": {
      "needs_background": "light"
     },
     "output_type": "display_data"
    }
   ],
   "source": [
    "plt.figure(figsize=(5,5))\n",
    "df['loan_status'].value_counts().plot.bar()\n",
    "plt.show()"
   ]
  },
  {
   "cell_type": "markdown",
   "id": "b6ca054c",
   "metadata": {},
   "source": [
    "#### 1. Inference : The above visualization indicates that around 5000 people are defaulters from the dataset of 35000 people."
   ]
  },
  {
   "cell_type": "markdown",
   "id": "fcbaf14d",
   "metadata": {},
   "source": [
    "### _Defaulter Vs Loan Term_"
   ]
  },
  {
   "cell_type": "code",
   "execution_count": 147,
   "id": "6fd3032f",
   "metadata": {},
   "outputs": [
    {
     "data": {
      "text/plain": [
       "<seaborn.axisgrid.FacetGrid at 0x21121cccf70>"
      ]
     },
     "execution_count": 147,
     "metadata": {},
     "output_type": "execute_result"
    },
    {
     "data": {
      "text/plain": [
       "<Figure size 720x360 with 0 Axes>"
      ]
     },
     "metadata": {},
     "output_type": "display_data"
    },
    {
     "data": {
      "image/png": "[encoded data removed]",
      "text/plain": [
       "<Figure size 360x360 with 1 Axes>"
      ]
     },
     "metadata": {
      "needs_background": "light"
     },
     "output_type": "display_data"
    }
   ],
   "source": [
    "plt.figure(figsize=(10,5))\n",
    "sns.catplot(x=\"term\", y=\"loan_status\",  kind=\"bar\", data=df)"
   ]
  },
  {
   "cell_type": "markdown",
   "id": "88045d26",
   "metadata": {},
   "source": [
    "#### 2. Inference : The above visualization indicates that the there are more defaulters in 60 months term."
   ]
  },
  {
   "cell_type": "markdown",
   "id": "bd479bdc",
   "metadata": {},
   "source": [
    "### _Verfication Status Vs Defaulter_"
   ]
  },
  {
   "cell_type": "code",
   "execution_count": 155,
   "id": "0f4d583f",
   "metadata": {},
   "outputs": [
    {
     "data": {
      "text/plain": [
       "<Figure size 360x360 with 0 Axes>"
      ]
     },
     "metadata": {},
     "output_type": "display_data"
    },
    {
     "data": {
      "image/png": "[encoded data removed]",
      "text/plain": [
       "<Figure size 360x360 with 1 Axes>"
      ]
     },
     "metadata": {
      "needs_background": "light"
     },
     "output_type": "display_data"
    }
   ],
   "source": [
    "plt.figure(figsize=(5,5))\n",
    "sns.catplot(x=\"loan_status\", y=\"verification_status\",  kind=\"bar\", data=df)\n",
    "plt.show()"
   ]
  },
  {
   "cell_type": "markdown",
   "id": "fdb601de",
   "metadata": {},
   "source": [
    "#### 3. Inference : The above bar plot shows the defaulters are more towards verified resources, hence the graph is not useful."
   ]
  },
  {
   "cell_type": "markdown",
   "id": "4c3f7e68",
   "metadata": {},
   "source": [
    "### _Defaulter Vs Home OwnerShip_"
   ]
  },
  {
   "cell_type": "code",
   "execution_count": 144,
   "id": "adaf32a7",
   "metadata": {},
   "outputs": [
    {
     "data": {
      "text/plain": [
       "<Figure size 720x360 with 0 Axes>"
      ]
     },
     "metadata": {},
     "output_type": "display_data"
    },
    {
     "data": {
      "image/png": "[encoded data removed]",
      "text/plain": [
       "<Figure size 360x360 with 1 Axes>"
      ]
     },
     "metadata": {
      "needs_background": "light"
     },
     "output_type": "display_data"
    }
   ],
   "source": [
    "plt.figure(figsize=(10,5))\n",
    "sns.catplot(x=\"loan_status\", y=\"home_ownership\",  kind=\"bar\", data=df)\n",
    "plt.show()"
   ]
  },
  {
   "cell_type": "markdown",
   "id": "777cf1af",
   "metadata": {},
   "source": [
    "#### 4. Inference : The above bar plot shows the defaulters ratio is almost same in rent, own and mortage, hence the graph is not useful."
   ]
  },
  {
   "cell_type": "markdown",
   "id": "0339e3d2",
   "metadata": {},
   "source": [
    "### _Defaulter Vs Grade_"
   ]
  },
  {
   "cell_type": "code",
   "execution_count": 154,
   "id": "70418156",
   "metadata": {},
   "outputs": [
    {
     "data": {
      "text/plain": [
       "<Figure size 3600x3600 with 0 Axes>"
      ]
     },
     "metadata": {},
     "output_type": "display_data"
    },
    {
     "data": {
      "image/png": "[encoded data removed]",
      "text/plain": [
       "<Figure size 360x360 with 1 Axes>"
      ]
     },
     "metadata": {
      "needs_background": "light"
     },
     "output_type": "display_data"
    }
   ],
   "source": [
    "plt.figure(figsize=(50,50))\n",
    "sns.catplot(x=\"loan_status\", y=\"grade\",  kind=\"bar\", data=df)\n",
    "plt.show()"
   ]
  },
  {
   "cell_type": "markdown",
   "id": "de15ada3",
   "metadata": {},
   "source": [
    "#### 5. Inference : The above bar plot shows the defaulters ratio is most in grade E, F, G"
   ]
  },
  {
   "cell_type": "markdown",
   "id": "fa291d0b",
   "metadata": {},
   "source": [
    "### _Defaulter Vs Purpose_"
   ]
  },
  {
   "cell_type": "code",
   "execution_count": 133,
   "id": "ba210afa",
   "metadata": {},
   "outputs": [
    {
     "data": {
      "text/plain": [
       "<Figure size 1440x720 with 0 Axes>"
      ]
     },
     "metadata": {},
     "output_type": "display_data"
    },
    {
     "data": {
      "image/png": "[encoded data removed]",
      "text/plain": [
       "<Figure size 360x360 with 1 Axes>"
      ]
     },
     "metadata": {
      "needs_background": "light"
     },
     "output_type": "display_data"
    }
   ],
   "source": [
    "plt.figure(figsize=(20,10))\n",
    "sns.catplot(x=\"loan_status\", y=\"purpose\",  kind=\"bar\", data=df)\n",
    "plt.show()"
   ]
  },
  {
   "cell_type": "markdown",
   "id": "80444155",
   "metadata": {},
   "source": [
    "#### 6. Inference :  The defaulters rate is almost constant for all purpose type except ‘small business’, hence rate will rely on purpose of the loan."
   ]
  },
  {
   "cell_type": "markdown",
   "id": "5e77bd8e",
   "metadata": {},
   "source": [
    "## _Defaulter Vs Annual_Income_"
   ]
  },
  {
   "cell_type": "code",
   "execution_count": 141,
   "id": "f07811a4",
   "metadata": {},
   "outputs": [
    {
     "data": {
      "text/plain": [
       "<Figure size 1440x720 with 0 Axes>"
      ]
     },
     "metadata": {},
     "output_type": "display_data"
    },
    {
     "data": {
      "image/png": "[encoded data removed]",
      "text/plain": [
       "<Figure size 360x360 with 1 Axes>"
      ]
     },
     "metadata": {
      "needs_background": "light"
     },
     "output_type": "display_data"
    }
   ],
   "source": [
    "plt.figure(figsize=(20,10))\n",
    "sns.catplot(x=\"loan_status\", y=\"range_annual_inc\",  kind=\"bar\", data=df)\n",
    "plt.show()"
   ]
  },
  {
   "cell_type": "markdown",
   "id": "6a394406",
   "metadata": {},
   "source": [
    "#### 7. Inference : The default rate is more towards 0-25000 annual income range, hence rate will rely on range_annual_inc feature."
   ]
  },
  {
   "cell_type": "markdown",
   "id": "4bec4c26",
   "metadata": {},
   "source": [
    "### _Defaulter Vs Loan_Amount_Range_"
   ]
  },
  {
   "cell_type": "code",
   "execution_count": 140,
   "id": "148cf8fe",
   "metadata": {},
   "outputs": [
    {
     "data": {
      "text/plain": [
       "<Figure size 1440x720 with 0 Axes>"
      ]
     },
     "metadata": {},
     "output_type": "display_data"
    },
    {
     "data": {
      "image/png": "[encoded data removed]",
      "text/plain": [
       "<Figure size 360x360 with 1 Axes>"
      ]
     },
     "metadata": {
      "needs_background": "light"
     },
     "output_type": "display_data"
    }
   ],
   "source": [
    "plt.figure(figsize=(20,10))\n",
    "sns.catplot(x=\"loan_status\", y=\"range_loan_amnt\",  kind=\"bar\", data=df)\n",
    "plt.show()"
   ]
  },
  {
   "cell_type": "markdown",
   "id": "310fb5fc",
   "metadata": {},
   "source": [
    "#### 8. Inference :  The default rate is more towards 25000+ loan range, hence rate will rely on loan_amnt_range feature."
   ]
  },
  {
   "cell_type": "markdown",
   "id": "21ca8f18",
   "metadata": {},
   "source": [
    "### _Defaulter Vs Interest Range_"
   ]
  },
  {
   "cell_type": "code",
   "execution_count": 156,
   "id": "d475c33a",
   "metadata": {},
   "outputs": [
    {
     "data": {
      "text/plain": [
       "<Figure size 1440x720 with 0 Axes>"
      ]
     },
     "metadata": {},
     "output_type": "display_data"
    },
    {
     "data": {
      "image/png": "[encoded data removed]",
      "text/plain": [
       "<Figure size 360x360 with 1 Axes>"
      ]
     },
     "metadata": {
      "needs_background": "light"
     },
     "output_type": "display_data"
    }
   ],
   "source": [
    "plt.figure(figsize=(20,10))\n",
    "sns.catplot(x=\"loan_status\", y=\"range_int_rate\",  kind=\"bar\", data=df)\n",
    "plt.show()"
   ]
  },
  {
   "cell_type": "markdown",
   "id": "56a4180d",
   "metadata": {},
   "source": [
    "#### 9. Inference : The default rate is more towards 15+ interest rate range, hence rate will rely on interest_rate_range feature."
   ]
  },
  {
   "cell_type": "markdown",
   "id": "8727e5b8",
   "metadata": {},
   "source": [
    "### _Defaulter Vs DTI Range_"
   ]
  },
  {
   "cell_type": "code",
   "execution_count": 160,
   "id": "3943aa58",
   "metadata": {},
   "outputs": [
    {
     "data": {
      "text/plain": [
       "<Figure size 1440x720 with 0 Axes>"
      ]
     },
     "metadata": {},
     "output_type": "display_data"
    },
    {
     "data": {
      "image/png": "[encoded data removed]",
      "text/plain": [
       "<Figure size 360x360 with 1 Axes>"
      ]
     },
     "metadata": {
      "needs_background": "light"
     },
     "output_type": "display_data"
    }
   ],
   "source": [
    "plt.figure(figsize=(20,10))\n",
    "sns.catplot(x=\"loan_status\", y=\"range_dti\",  kind=\"bar\", data=df)\n",
    "plt.show()"
   ]
  },
  {
   "cell_type": "markdown",
   "id": "3c2d0d9e",
   "metadata": {},
   "source": [
    "####  10. Inference : From this graph, we can infer that the defaulters are increasing with DTI% ."
   ]
  },
  {
   "cell_type": "markdown",
   "id": "b78c336d",
   "metadata": {},
   "source": [
    "## <font color = blue> Bivariate Analysis ###"
   ]
  },
  {
   "cell_type": "markdown",
   "id": "97bea4bb",
   "metadata": {},
   "source": [
    "### _Defaulter Vs Pupose Vs Loan_Amount_Range_"
   ]
  },
  {
   "cell_type": "code",
   "execution_count": 195,
   "id": "777ffaf8",
   "metadata": {},
   "outputs": [
    {
     "data": {
      "image/png": "[encoded data removed]",
      "text/plain": [
       "<Figure size 1440x720 with 1 Axes>"
      ]
     },
     "metadata": {
      "needs_background": "light"
     },
     "output_type": "display_data"
    }
   ],
   "source": [
    "plt.figure(figsize=(20,10))\n",
    "sns.barplot(x=\"range_loan_amnt\", y='loan_status', hue=\"purpose\", data=df)\n",
    "plt.show()"
   ]
  },
  {
   "cell_type": "markdown",
   "id": "0a5ef5bf",
   "metadata": {},
   "source": [
    "#### 11. Inference : We can infer that default ratio increases for every purpose with respect to loan amount."
   ]
  },
  {
   "cell_type": "markdown",
   "id": "b8002c8c",
   "metadata": {},
   "source": [
    "### _Defaulter Vs Pupose Vs Annual_Income_Range_\n"
   ]
  },
  {
   "cell_type": "code",
   "execution_count": 182,
   "id": "e2730d1b",
   "metadata": {},
   "outputs": [
    {
     "data": {
      "image/png": "[encoded data removed]",
      "text/plain": [
       "<Figure size 1440x720 with 1 Axes>"
      ]
     },
     "metadata": {
      "needs_background": "light"
     },
     "output_type": "display_data"
    }
   ],
   "source": [
    "plt.figure(figsize=(20,10))\n",
    "sns.barplot(x=\"range_annual_inc\", y='loan_status', hue=\"purpose\", data=df)\n",
    "plt.show()"
   ]
  },
  {
   "cell_type": "markdown",
   "id": "0bbed0ad",
   "metadata": {},
   "source": [
    "#### 12. Inference : This graph shows no correlation between annual_income_range and purpose."
   ]
  },
  {
   "cell_type": "markdown",
   "id": "c3c36bf4",
   "metadata": {},
   "source": [
    "### _Defaulter Vs Loan Amount Range Vs Term_"
   ]
  },
  {
   "cell_type": "code",
   "execution_count": 185,
   "id": "530b7190",
   "metadata": {},
   "outputs": [
    {
     "data": {
      "image/png": "[encoded data removed]",
      "text/plain": [
       "<Figure size 1440x720 with 1 Axes>"
      ]
     },
     "metadata": {
      "needs_background": "light"
     },
     "output_type": "display_data"
    }
   ],
   "source": [
    "plt.figure(figsize=(20,10))\n",
    "sns.barplot(x=\"range_loan_amnt\", y='loan_status', hue=\"term\", data=df)\n",
    "plt.show()"
   ]
  },
  {
   "cell_type": "markdown",
   "id": "169d5150",
   "metadata": {},
   "source": [
    "#### 13. Inference : This graph indicates that every default ratio increases for every term with respect to loan_amount_range."
   ]
  },
  {
   "cell_type": "markdown",
   "id": "ae892a4f",
   "metadata": {},
   "source": [
    "### _Defaulter Vs Pupose Vs Grade_"
   ]
  },
  {
   "cell_type": "code",
   "execution_count": 181,
   "id": "319bbd1f",
   "metadata": {},
   "outputs": [
    {
     "data": {
      "image/png": "[encoded data removed]",
      "text/plain": [
       "<Figure size 1440x720 with 1 Axes>"
      ]
     },
     "metadata": {
      "needs_background": "light"
     },
     "output_type": "display_data"
    }
   ],
   "source": [
    "plt.figure(figsize=(20,10))\n",
    "sns.barplot(x=\"grade\", y='loan_status', hue=\"purpose\", data=df)\n",
    "plt.show()"
   ]
  },
  {
   "cell_type": "markdown",
   "id": "dfb1a171",
   "metadata": {},
   "source": [
    "#### 14. Inference : The above graph indicates that default ratio increases for every purpose with respect to grades."
   ]
  },
  {
   "cell_type": "markdown",
   "id": "8a1fa299",
   "metadata": {},
   "source": [
    "### _Defaulter Vs Pupose Vs Term_"
   ]
  },
  {
   "cell_type": "code",
   "execution_count": 184,
   "id": "b8ca8da3",
   "metadata": {},
   "outputs": [
    {
     "data": {
      "image/png": "[encoded data removed]",
      "text/plain": [
       "<Figure size 1440x720 with 1 Axes>"
      ]
     },
     "metadata": {
      "needs_background": "light"
     },
     "output_type": "display_data"
    }
   ],
   "source": [
    "plt.figure(figsize=(20,10))\n",
    "sns.barplot(x=\"term\", y='loan_status', hue=\"purpose\", data=df)\n",
    "plt.show()"
   ]
  },
  {
   "cell_type": "markdown",
   "id": "9bf4534f",
   "metadata": {},
   "source": [
    "#### 15. This visualization indicates purpose of defaulters with respect to grades."
   ]
  },
  {
   "cell_type": "markdown",
   "id": "0a477399",
   "metadata": {},
   "source": [
    "## <font color = blue> Multivariate Analysis ###"
   ]
  },
  {
   "cell_type": "markdown",
   "id": "625aaa6a",
   "metadata": {},
   "source": [
    "### _Correlation_"
   ]
  },
  {
   "cell_type": "code",
   "execution_count": 197,
   "id": "be7d1c72",
   "metadata": {},
   "outputs": [
    {
     "data": {
      "image/png": "[encoded data removed]",
      "text/plain": [
       "<Figure size 360x720 with 2 Axes>"
      ]
     },
     "metadata": {
      "needs_background": "light"
     },
     "output_type": "display_data"
    }
   ],
   "source": [
    "cont_func = [\"loan_amnt\", \"annual_inc\", \"term\", \"int_rate\", \"loan_status\", \"revol_util\"]\n",
    "corr_loan = df[cont_func].corr()\n",
    "sns.heatmap(corr_loan,vmin=-1.0,vmax=1.0,annot=True, cmap=\"OrRd\")\n",
    "plt.show()"
   ]
  },
  {
   "cell_type": "code",
   "execution_count": null,
   "id": "f59fd3cc",
   "metadata": {},
   "outputs": [],
   "source": []
  }
 ],
 "metadata": {
  "kernelspec": {
   "display_name": "Python 3",
   "language": "python",
   "name": "python3"
  },
  "language_info": {
   "codemirror_mode": {
    "name": "ipython",
    "version": 3
   },
   "file_extension": ".py",
   "mimetype": "text/x-python",
   "name": "python",
   "nbconvert_exporter": "python",
   "pygments_lexer": "ipython3",
   "version": "3.8.8"
  }
 },
 "nbformat": 4,
 "nbformat_minor": 5
}
